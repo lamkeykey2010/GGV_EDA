{
 "cells": [
  {
   "cell_type": "code",
   "execution_count": null,
   "metadata": {
    "collapsed": true
   },
   "outputs": [
    {
     "data": {
      "text/plain": [
       "'/Users/lamkeykey/Desktop/data_analyst'"
      ]
     },
     "execution_count": 4,
     "metadata": {},
     "output_type": "execute_result"
    }
   ],
   "source": [
    "import os\n",
    "import pprint as pp\n",
    "import pandas as pd\n",
    "import numpy as ny\n",
    "import matplotlib.pyplot as plt\n",
    "import matplotlib.image as mpimg\n",
    "import numpy as np\n",
    "\n",
    "\n",
    "\n",
    "os.getcwd()\n",
    "path = \"/Users/lamkeykey/Desktop/data_analyst\"\n",
    "os.chdir(path)\n",
    "os.getcwd()\n"
   ]
  },
  {
   "cell_type": "code",
   "execution_count": 5,
   "metadata": {},
   "outputs": [],
   "source": [
    "complete = pd.read_csv('df_completed.csv')\n",
    "order = pd.read_csv('df_order.csv')\n",
    "region = pd.read_csv('df_region.csv')\n"
   ]
  },
  {
   "cell_type": "code",
   "execution_count": 13,
   "metadata": {},
   "outputs": [
    {
     "name": "stdout",
     "output_type": "stream",
     "text": [
      "       order_request_id     driver_id  completed_day_id\ncount      31887.000000  31887.000000      31887.000000\nmean       17561.025026   2466.166024         15.513564\nstd        10143.679716   1435.622099          7.875601\nmin            0.000000      1.000000          1.000000\n25%         8776.500000   1247.000000          9.000000\n50%        17598.000000   2442.000000         16.000000\n75%        26383.500000   3700.000000         23.000000\nmax        35162.000000   5024.000000         30.000000\n       order_request_id  created_day_id  pickup_location_region\ncount      35163.000000    35163.000000            35163.000000\nmean       17581.000000       15.506925                2.036800\nstd        10150.828094        7.876393                1.027886\nmin            0.000000        1.000000                1.000000\n25%         8790.500000        9.000000                1.000000\n50%        17581.000000       16.000000                2.000000\n75%        26371.500000       23.000000                2.000000\nmax        35162.000000       28.000000                5.000000\n         region  total_road_length   region_size  bus_station   restaurant\ncount  5.000000           5.000000  5.000000e+00     5.000000     5.000000\nmean   3.000000        9943.058848  1.409762e+06     1.200000   830.000000\nstd    1.581139        7685.163294  1.414750e+06     2.683282   724.469116\nmin    1.000000        2872.926630  4.150783e+05     0.000000    10.000000\n25%    2.000000        5535.878610  5.998239e+05     0.000000   249.000000\n50%    3.000000        7325.776210  1.013369e+06     0.000000   894.000000\n75%    4.000000       11483.181150  1.135258e+06     0.000000  1189.000000\nmax    5.000000       22497.531640  3.885282e+06     6.000000  1808.000000\n"
     ]
    }
   ],
   "source": [
    "pp.pprint(complete.describe())\n",
    "pp.pprint(order.describe())\n",
    "pp.pprint(region.describe())\n"
   ]
  },
  {
   "cell_type": "code",
   "execution_count": 12,
   "metadata": {},
   "outputs": [
    {
     "name": "stdout",
     "output_type": "stream",
     "text": [
      "order_request_id    0\ndriver_id           0\ncompleted_day_id    0\ncompleted_time      0\ndtype: int64\n\n\norder_request_id          0\ncreated_day_id            0\ncreated_time              0\npickup_location_region    0\ndtype: int64\n\n\nregion               0\ntotal_road_length    0\nregion_size          0\nbus_station          0\nrestaurant           0\ndtype: int64\n"
     ]
    }
   ],
   "source": [
    "print(complete.isnull().sum())\n",
    "print(os.linesep)\n",
    "\n",
    "print(order.isnull().sum())\n",
    "print(os.linesep)\n",
    "print(region.isnull().sum())"
   ]
  },
  {
   "cell_type": "code",
   "execution_count": null,
   "metadata": {
    "collapsed": false
   },
   "outputs": [
    {
     "name": "stdout",
     "output_type": "stream",
     "text": [
      "       order_request_id     driver_id  completed_day_id  created_day_id  \\\ncount      31887.000000  31887.000000      31887.000000    31887.000000   \nmean       17561.025026   2466.166024         15.513564       15.488506   \nstd        10143.679716   1435.622099          7.875601        7.872493   \nmin            0.000000      1.000000          1.000000        1.000000   \n25%         8776.500000   1247.000000          9.000000        9.000000   \n50%        17598.000000   2442.000000         16.000000       16.000000   \n75%        26383.500000   3700.000000         23.000000       23.000000   \nmax        35162.000000   5024.000000         30.000000       28.000000   \n\n       pickup_location_region  \ncount            31887.000000  \nmean                 2.044219  \nstd                  1.027894  \nmin                  1.000000  \n25%                  1.000000  \n50%                  2.000000  \n75%                  2.000000  \nmax                  5.000000  \n"
     ]
    }
   ],
   "source": [
    "df_merge_order = complete.merge(order,left_on='order_request_id',right_on='order_request_id')\n",
    "print(df_merge_order.describe())"
   ]
  },
  {
   "cell_type": "code",
   "execution_count": null,
   "metadata": {},
   "outputs": [],
   "source": [
    "df_merge_order.to_csv('/Users/lamkeykey/Desktop/data_analyst/test.csv',index=True)"
   ]
  }
 ],
 "metadata": {
  "kernelspec": {
   "display_name": "Python 2",
   "language": "python",
   "name": "python2"
  },
  "language_info": {
   "codemirror_mode": {
    "name": "ipython",
    "version": 2
   },
   "file_extension": ".py",
   "mimetype": "text/x-python",
   "name": "python",
   "nbconvert_exporter": "python",
   "pygments_lexer": "ipython2",
   "version": "2.7.6"
  }
 },
 "nbformat": 4,
 "nbformat_minor": 0
}
